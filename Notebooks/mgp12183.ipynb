{
 "cells": [
  {
   "cell_type": "code",
   "execution_count": 1,
   "id": "f07ec972-52d6-4b82-b529-65f6459068d2",
   "metadata": {
    "execution": {
     "iopub.execute_input": "2022-11-06T12:57:37.750660Z",
     "iopub.status.busy": "2022-11-06T12:57:37.749447Z",
     "iopub.status.idle": "2022-11-06T12:57:38.291933Z",
     "shell.execute_reply": "2022-11-06T12:57:38.291046Z"
    },
    "papermill": {
     "duration": 0.549814,
     "end_time": "2022-11-06T12:57:38.294350",
     "exception": false,
     "start_time": "2022-11-06T12:57:37.744536",
     "status": "completed"
    },
    "tags": []
   },
   "outputs": [
    {
     "name": "stdout",
     "output_type": "stream",
     "text": [
      "REPOSITORY ID\n",
      "-------------\n",
      "{'MGP12183'} 1\n",
      "=========================================================\n",
      "REPOSITORY LINK\n",
      "-------------\n",
      "{'MGP12183'} 1\n",
      "=========================================================\n",
      "SAMPLE NUMBER\n",
      "-------------\n",
      "{21.0} 1\n",
      "=========================================================\n",
      "STUDY TITLE\n",
      "-------------\n",
      "{'Enterocyte-associated microbiome of the Hadza hunter-gatherers // Gut microbiome of the Hadza hunter-gatherers'} 1\n",
      "=========================================================\n",
      "STUDY LINK\n",
      "-------------\n",
      "{'27375586 // 24736369'} 1\n",
      "=========================================================\n",
      "ASSAY TYPE\n",
      "-------------\n",
      "{'Amplicon'} 1\n",
      "=========================================================\n",
      "TECHNOLOGY\n",
      "-------------\n",
      "{'Illumina'} 1\n",
      "=========================================================\n",
      "COUNTRY\n",
      "-------------\n",
      "{'Tanzania'} 1\n",
      "=========================================================\n",
      "DISEASE\n",
      "-------------\n",
      "{'Healthy'} 1\n",
      "=========================================================\n",
      "DOID\n",
      "-------------\n",
      "{nan, nan, nan, nan, nan, nan, nan, nan, nan, nan, nan, nan, nan, nan, nan, nan, nan, nan, nan, nan, nan} 21\n",
      "=========================================================\n",
      "STUDY DESIGN\n",
      "-------------\n",
      "{'Cross-sectional'} 1\n",
      "=========================================================\n",
      "BODY SITE\n",
      "-------------\n",
      "{'Gut'} 1\n",
      "=========================================================\n",
      "PLATFORM\n",
      "-------------\n",
      "{'ILLUMINA MISEQ'} 1\n",
      "=========================================================\n",
      "PARTICIPANT FEATURES\n",
      "-------------\n",
      "{'Partcipants aged from 13 to 70 years old'} 1\n",
      "=========================================================\n",
      "AVERAGE SPOTLENGTH\n",
      "-------------\n",
      "{449.0, 450.0, 451.0, 452.0, 453.0, 455.0, 457.0, 458.0, 460.0, 463.0, 464.0, 466.0, 468.0, 470.0, 444.0} 15\n",
      "=========================================================\n",
      "RUN ID\n",
      "-------------\n",
      "{'MGM4613047.3', 'MGM4613043.3', 'MGM4613044.3', 'MGM4613040.3', 'MGM4613051.3', 'MGM4613058.3', 'MGM4613056.3', 'MGM4613059.3', 'MGM4613060.3', 'MGM4613041.3', 'MGM4613049.3', 'MGM4613055.3', 'MGM4613042.3', 'MGM4613057.3', 'MGM4613050.3', 'MGM4613053.3', 'MGM4613052.3', 'MGM4613045.3', 'MGM4613048.3', 'MGM4613046.3', 'MGM4613054.3'} 21\n",
      "=========================================================\n",
      "Sample ID\n",
      "-------------\n",
      "{'MGS492546', 'MGS492558', 'MGS492573', 'MGS492594', 'MGS492591', 'MGS492552', 'MGS492537', 'MGS492555', 'MGS492597', 'MGS492585', 'MGS492567', 'MGS492588', 'MGS492582', 'MGS492564', 'MGS492561', 'MGS492579', 'MGS492570', 'MGS492543', 'MGS492540', 'MGS492576', 'MGS492549'} 21\n",
      "=========================================================\n",
      "Sample Name\n",
      "-------------\n",
      "{'H10', 'H23', 'H1', 'H19', 'H15', 'H22', 'H6', 'H8', 'H7', 'H3', 'H21', 'H16', 'H9', 'H5', 'H26', 'H20', 'H27', 'H18', 'H25', 'H24', 'H17'} 21\n",
      "=========================================================\n",
      "COLLECTION DATE\n",
      "-------------\n",
      "{'1/14/2013'} 1\n",
      "=========================================================\n",
      "LIBRARY LAYOUT\n",
      "-------------\n",
      "{nan} 1\n",
      "=========================================================\n",
      "LAT LON\n",
      "-------------\n",
      "{'-6.814920, 39.288410*'} 1\n",
      "=========================================================\n",
      "SAMPLE TYPE\n",
      "-------------\n",
      "{'Stool'} 1\n",
      "=========================================================\n",
      "ETHNICITY\n",
      "-------------\n",
      "{'Hadza'} 1\n",
      "=========================================================\n",
      "ELO\n",
      "-------------\n",
      "{'Hadza'} 1\n",
      "=========================================================\n",
      "URBANZATION\n",
      "-------------\n",
      "{'Rural'} 1\n",
      "=========================================================\n",
      "REGION\n",
      "-------------\n",
      "{'Dedauko and sengele camps'} 1\n",
      "=========================================================\n",
      "CITYVILLAGE\n",
      "-------------\n",
      "{nan} 1\n",
      "=========================================================\n",
      "TARGET AMPLICON\n",
      "-------------\n",
      "{'V3-V4'} 1\n",
      "=========================================================\n",
      "DIET\n",
      "-------------\n",
      "{'Hunter gatherers diet'} 1\n",
      "=========================================================\n"
     ]
    }
   ],
   "source": [
    "import pandas as pd\n",
    "import numpy as np\n",
    "data = pd.read_csv(\"../Originals/Fragmented/mgp12183.csv\")\n",
    "from replacements import replacement_func\n",
    "cols = [\"STUDY TITLE\",\"ASSAY TYPE\",\"TECHNOLOGY\",\"COUNTRY\",\"DISEASE\",\"STUDY DESIGN\",\"BODY SITE\",\"PARTICIPANT FEATURES\",\"ETHNICITY\",\"ELO\", \"LIBRARY LAYOUT\",\"BODY SITE\", \"URBANZATION\", \"SAMPLE TYPE\",\"REGION\",\"DIET\", \"CITYVILLAGE\"] \n",
    "data[cols] = data[cols].applymap((lambda x: replacement_func(x) if type(x)==str else x)).values\n",
    "# print(data)\n",
    "for col in data.columns:\n",
    "    data.loc[pd.isna(data[col]), col] = np.nan\n",
    "    data.loc[data[col]==\"-\", col] = np.nan\n",
    "    try:\n",
    "        data[col] = data[col].apply(replacement_func)\n",
    "        if col not in cols:\n",
    "            data[col] = data[col].apply(lambda x: x.upper().strip())\n",
    "        data.loc[data[col]==\"\", col] = np.nan\n",
    "    except:\n",
    "        pass\n",
    "    \n",
    "    print(col)\n",
    "    print(\"-------------\")\n",
    "    print(set(data[col]), len(set(data[col])))\n",
    "    \n",
    "    print(\"=========================================================\")\n",
    "\n",
    "    \n",
    "data.to_csv(\"../Corrected/mgp12183.csv\")"
   ]
  },
  {
   "cell_type": "code",
   "execution_count": 2,
   "id": "dbdb53a8-4a32-4baf-b504-d82610777a51",
   "metadata": {
    "execution": {
     "iopub.execute_input": "2022-11-06T12:57:38.714634Z",
     "iopub.status.busy": "2022-11-06T12:57:38.713531Z",
     "iopub.status.idle": "2022-11-06T12:57:38.723460Z",
     "shell.execute_reply": "2022-11-06T12:57:38.721211Z"
    },
    "papermill": {
     "duration": 0.432616,
     "end_time": "2022-11-06T12:57:38.729825",
     "exception": false,
     "start_time": "2022-11-06T12:57:38.297209",
     "status": "completed"
    },
    "tags": []
   },
   "outputs": [],
   "source": [
    "# \"ANMOL\".upper()"
   ]
  },
  {
   "cell_type": "code",
   "execution_count": 3,
   "id": "db3b4c08-f87f-4dba-afc7-efc53ab34096",
   "metadata": {
    "execution": {
     "iopub.execute_input": "2022-11-06T12:57:40.753638Z",
     "iopub.status.busy": "2022-11-06T12:57:40.752566Z",
     "iopub.status.idle": "2022-11-06T12:57:40.764229Z",
     "shell.execute_reply": "2022-11-06T12:57:40.762062Z"
    },
    "papermill": {
     "duration": 0.037276,
     "end_time": "2022-11-06T12:57:40.767826",
     "exception": false,
     "start_time": "2022-11-06T12:57:40.730550",
     "status": "completed"
    },
    "tags": []
   },
   "outputs": [],
   "source": [
    "# data[[\"STUDY TITLE\",\"ASSAY TYPE\",\"TECHNOLOGY\",\"COUNTRY\",\"DISEASE\",\"STUDY DESIGN\",\"BODY SITE\",\"PARTICIPANT FEATURES\",\"ETHNICITY\",\"ELO\", \"LIBRARY LAYOUT\",\"BODY SITE\"]].applymap(replacement_func).values"
   ]
  },
  {
   "cell_type": "code",
   "execution_count": null,
   "id": "45eda3c4-f89c-465e-bae9-523d5a6c4f15",
   "metadata": {
    "papermill": {
     "duration": 0.002273,
     "end_time": "2022-11-06T12:57:40.772396",
     "exception": false,
     "start_time": "2022-11-06T12:57:40.770123",
     "status": "completed"
    },
    "tags": []
   },
   "outputs": [],
   "source": []
  }
 ],
 "metadata": {
  "kernelspec": {
   "display_name": "Python 3",
   "language": "python",
   "name": "python3"
  },
  "language_info": {
   "codemirror_mode": {
    "name": "ipython",
    "version": 3
   },
   "file_extension": ".py",
   "mimetype": "text/x-python",
   "name": "python",
   "nbconvert_exporter": "python",
   "pygments_lexer": "ipython3",
   "version": "3.9.13"
  },
  "papermill": {
   "default_parameters": {},
   "duration": 4.893248,
   "end_time": "2022-11-06T12:57:41.198691",
   "environment_variables": {},
   "exception": null,
   "input_path": "mgp12183.ipynb",
   "output_path": "mgp12183.ipynb",
   "parameters": {},
   "start_time": "2022-11-06T12:57:36.305443",
   "version": "2.3.4"
  }
 },
 "nbformat": 4,
 "nbformat_minor": 5
}