{
 "cells": [
  {
   "cell_type": "code",
   "execution_count": 1,
   "id": "f07ec972-52d6-4b82-b529-65f6459068d2",
   "metadata": {
    "execution": {
     "iopub.execute_input": "2023-05-04T17:08:02.584835Z",
     "iopub.status.busy": "2023-05-04T17:08:02.584528Z",
     "iopub.status.idle": "2023-05-04T17:08:03.009020Z",
     "shell.execute_reply": "2023-05-04T17:08:03.008397Z"
    },
    "papermill": {
     "duration": 0.431877,
     "end_time": "2023-05-04T17:08:03.010409",
     "exception": false,
     "start_time": "2023-05-04T17:08:02.578532",
     "status": "completed"
    },
    "tags": []
   },
   "outputs": [
    {
     "name": "stdout",
     "output_type": "stream",
     "text": [
      "REPOSITORY ID\n",
      "-------------\n",
      "{'PRJNA253931'} 1\n",
      "=========================================================\n",
      "REPOSITORY LINK\n",
      "-------------\n",
      "{'PRJNA253931'} 1\n",
      "=========================================================\n",
      "SAMPLE NUMBER\n",
      "-------------\n",
      "{43.0} 1\n",
      "=========================================================\n",
      "STUDY TITLE\n",
      "-------------\n",
      "{'Household air pollution and the lung microbiome of healthy adults in Malawi: a cross sectional study'} 1\n",
      "=========================================================\n",
      "STUDY LINK\n",
      "-------------\n",
      "{27514621.0} 1\n",
      "=========================================================\n",
      "ASSAY TYPE\n",
      "-------------\n",
      "{'Amplicon'} 1\n",
      "=========================================================\n",
      "TECHNOLOGY\n",
      "-------------\n",
      "{'Roche'} 1\n",
      "=========================================================\n",
      "COUNTRY\n",
      "-------------\n",
      "{'Malawi'} 1\n",
      "=========================================================\n",
      "DISEASE\n",
      "-------------\n",
      "{'Healthy'} 1\n",
      "=========================================================\n",
      "DOID\n",
      "-------------\n",
      "{nan, nan, nan, nan, nan, nan, nan, nan, nan, nan, nan, nan, nan, nan, nan, nan, nan, nan, nan, nan, nan, nan, nan, nan, nan, nan, nan, nan, nan, nan, nan, nan, nan, nan, nan, nan, nan, nan, nan, nan, nan, nan, nan} 43\n",
      "=========================================================\n",
      "STUDY DESIGN\n",
      "-------------\n",
      "{'Cross-sectional'} 1\n",
      "=========================================================\n",
      "BODY SITE\n",
      "-------------\n",
      "{'Lung'} 1\n",
      "=========================================================\n",
      "PLATFORM\n",
      "-------------\n",
      "{'454 GS-FLX TITANIUM'} 1\n",
      "=========================================================\n",
      "PARTICIPANT FEATURES\n",
      "-------------\n",
      "{'Healthy non-smokier and HIV-negative adults aged from 18 to 50 years old'} 1\n",
      "=========================================================\n",
      "AVERAGE SPOTLENGTH\n",
      "-------------\n",
      "{520.0, 522.0, 526.0, 529.0, 530.0, 531.0, 532.0, 533.0, 534.0, 535.0, 538.0, 539.0, 540.0, 541.0, 542.0, 546.0, 547.0, 548.0, 550.0, 425.0, 555.0, 432.0, 306.0, 562.0, 490.0} 25\n",
      "=========================================================\n",
      "RUN ID\n",
      "-------------\n",
      "{'SRR1501330', 'SRR1501333', 'SRR1501327', 'SRR1501299', 'SRR1501258', 'SRR1501332', 'SRR1501314', 'SRR1501317', 'SRR1501322', 'SRR1501323', 'SRR1501296', 'SRR1501174', 'SRR1501334', 'SRR1501355', 'SRR1501328', 'SRR1501338', 'SRR1501319', 'SRR1501326', 'SRR1501300', 'SRR1501329', 'SRR1501301', 'SRR1501316', 'SRR1501294', 'SRR1501340', 'SRR1501324', 'SRR1501337', 'SRR1501313', 'SRR1501339', 'SRR1501342', 'SRR1501325', 'SRR1501336', 'SRR1501341', 'SRR1501297', 'SRR1501331', 'SRR1501321', 'SRR1501318', 'SRR1501256', 'SRR1501356', 'SRR1501335', 'SRR1501257', 'SRR1501295', 'SRR1501298', 'SRR1501320'} 43\n",
      "=========================================================\n",
      "Sample ID\n",
      "-------------\n",
      "{'SRS650348', 'SRS650372', 'SRS650356', 'SRS650390', 'SRS650350', 'SRS650353', 'SRS650389', 'SRS650367', 'SRS650351', 'SRS650373', 'SRS650375', 'SRS650330', 'SRS650293', 'SRS650374', 'SRS650305', 'SRS650370', 'SRS650329', 'SRS650335', 'SRS650336', 'SRS650355', 'SRS650369', 'SRS650234', 'SRS650334', 'SRS650376', 'SRS650359', 'SRS650333', 'SRS650366', 'SRS650361', 'SRS650295', 'SRS650358', 'SRS650364', 'SRS650349', 'SRS650354', 'SRS650362', 'SRS650357', 'SRS650352', 'SRS650371', 'SRS650365', 'SRS650363', 'SRS650331', 'SRS650301', 'SRS650368', 'SRS650360'} 43\n",
      "=========================================================\n",
      "Sample Name\n",
      "-------------\n",
      "{'MLAC_123_031018BA01', 'MLAC_129_031024BA01', 'MLAC_132_031027BA01', 'MLAC_148_031043BA01', 'MLAC_146_031041BA01', 'MLAC_122_031017BA01', 'MLAC_130_031025BA01', 'MLAC_125_031020BA01', 'MLAC_126_031021BA01', 'MLAC_144_031039BA01', 'MLAC_108_031003BA01', 'MLAC_116_031011BA01', 'MLAC_134_031029BA01', 'MLAC_133_031028BA01', 'MLAC_135_031030BA01', 'MLAC_110_031005BA01', 'MLAC_138_031033BA01', 'MLAC_115_031010BA01', 'MLAC_145_031040BA01', 'MLAC_121_031016BA01', 'MLAC_113_031008BA01', 'MLAC_109_031004BA01', 'MLAC_120_031015BA01', 'MLAC_143_031038BA01', 'MLAC_139_031034BA01', 'MLAC_140_031035BA01', 'MLAC_117_031012BA01', 'MLAC_127_031022BA01', 'MLAC_119_031014BA01', 'MLAC_124_031019BA01', 'MLAC_147_031042BA01', 'MLAC_107_031002BA01', 'MLAC_141_031036BA01', 'MLAC_142_031037BA01', 'MLAC_114_031009BA01', 'MLAC_137_031032BA01', 'MLAC_111_031006BA01', 'MLAC_118_031013BA01', 'MLAC_136_031031BA01', 'MLAC_131_031026BA01', 'MLAC_112_031007BA01', 'MLAC_128_031023BA01', 'MLAC_106_031001BA01'} 43\n",
      "=========================================================\n",
      "COLLECTION DATE\n",
      "-------------\n",
      "{'6/21/2011', '5/31/2011', '11/12/2010', '6/29/2010', '10/13/2011', '10/25/2011', '7/29/2011', '6/14/2011', '6/28/2011', '6/2/2011', '11/2/2010', '9/21/2010', '11/16/2010', '10/11/2011', '11/9/2010', '7/9/2010', '7/21/2011', '6/10/2011', '11/3/2011', '11/15/2011', '7/28/2011', '7/19/2011', '8/17/2010', '10/27/2011', '8/10/2010', '8/13/2010', '7/25/2011', '7/20/2010', '2/8/2011', '11/12/2011', '8/25/2011', '7/12/2011'} 32\n",
      "=========================================================\n",
      "LIBRARY LAYOUT\n",
      "-------------\n",
      "{'Single'} 1\n",
      "=========================================================\n",
      "LAT LON\n",
      "-------------\n",
      "{'-15.786260, 35.009529'} 1\n",
      "=========================================================\n",
      "SAMPLE TYPE\n",
      "-------------\n",
      "{'Bronchoalveolar lavage'} 1\n",
      "=========================================================\n",
      "ETHNICITY\n",
      "-------------\n",
      "{nan} 1\n",
      "=========================================================\n",
      "ELO\n",
      "-------------\n",
      "{nan} 1\n",
      "=========================================================\n",
      "URBANZATION\n",
      "-------------\n",
      "{'Peri-urban'} 1\n",
      "=========================================================\n",
      "REGION\n",
      "-------------\n",
      "{nan} 1\n",
      "=========================================================\n",
      "CITYVILLAGE\n",
      "-------------\n",
      "{'Blantyre'} 1\n",
      "=========================================================\n",
      "TARGET AMPLICON\n",
      "-------------\n",
      "{'V1-V3'} 1\n",
      "=========================================================\n",
      "DIET\n",
      "-------------\n",
      "{nan} 1\n",
      "=========================================================\n"
     ]
    }
   ],
   "source": [
    "import pandas as pd\n",
    "import numpy as np\n",
    "data = pd.read_csv(\"../Originals/Fragmented/PRJNA253931.csv\")\n",
    "data.loc[data[\"PLATFORM\"]=='454 GS-FLXTitanium', \"PLATFORM\"] = '454 GS-FLX TITANIUM'\n",
    "from replacements import replacement_func\n",
    "cols = [\"STUDY TITLE\",\"ASSAY TYPE\",\"TECHNOLOGY\",\"COUNTRY\",\"DISEASE\",\"STUDY DESIGN\",\"BODY SITE\",\"PARTICIPANT FEATURES\",\"ETHNICITY\",\"ELO\", \"LIBRARY LAYOUT\",\"BODY SITE\", \"URBANZATION\", \"SAMPLE TYPE\",\"REGION\",\"DIET\", \"CITYVILLAGE\"] \n",
    "data[cols] = data[cols].applymap(lambda x: replacement_func(x) if type(x)==str else x).values\n",
    "for col in data.columns:\n",
    "    data.loc[pd.isna(data[col]), col] = np.nan\n",
    "    data.loc[data[col]==\"-\", col] = np.nan\n",
    "    try:\n",
    "        if col not in cols:\n",
    "            data[col] = data[col].apply(lambda x: x.upper().strip())\n",
    "        data.loc[data[col]==\"\", col] = np.nan\n",
    "    except:\n",
    "        pass\n",
    "    \n",
    "    print(col)\n",
    "    print(\"-------------\")\n",
    "    print(set(data[col]), len(set(data[col])))\n",
    "    \n",
    "    print(\"=========================================================\")\n",
    "\n",
    "    \n",
    "data.to_csv(\"../Corrected/PRJNA253931.csv\")"
   ]
  },
  {
   "cell_type": "code",
   "execution_count": 2,
   "id": "dbdb53a8-4a32-4baf-b504-d82610777a51",
   "metadata": {
    "execution": {
     "iopub.execute_input": "2023-05-04T17:08:03.013828Z",
     "iopub.status.busy": "2023-05-04T17:08:03.013634Z",
     "iopub.status.idle": "2023-05-04T17:08:03.016652Z",
     "shell.execute_reply": "2023-05-04T17:08:03.016074Z"
    },
    "papermill": {
     "duration": 0.005935,
     "end_time": "2023-05-04T17:08:03.017852",
     "exception": false,
     "start_time": "2023-05-04T17:08:03.011917",
     "status": "completed"
    },
    "tags": []
   },
   "outputs": [],
   "source": [
    "# data.loc[data[\"PLATFORM\"]=='454 GS-FLXTITANIUM', \"PLATFORM\"] = '454 GS-FLX TITANIUM'"
   ]
  },
  {
   "cell_type": "code",
   "execution_count": 3,
   "id": "20634b1d-40f6-4cf6-bea2-32b5e7f23c7b",
   "metadata": {
    "execution": {
     "iopub.execute_input": "2023-05-04T17:08:03.020678Z",
     "iopub.status.busy": "2023-05-04T17:08:03.020501Z",
     "iopub.status.idle": "2023-05-04T17:08:03.023235Z",
     "shell.execute_reply": "2023-05-04T17:08:03.022623Z"
    },
    "papermill": {
     "duration": 0.00614,
     "end_time": "2023-05-04T17:08:03.025052",
     "exception": false,
     "start_time": "2023-05-04T17:08:03.018912",
     "status": "completed"
    },
    "tags": []
   },
   "outputs": [],
   "source": [
    "# data[\"PLATFORM\"]"
   ]
  },
  {
   "cell_type": "code",
   "execution_count": null,
   "id": "9b1170ac-aca8-40e8-9cd3-0fffc8acb9b1",
   "metadata": {
    "papermill": {
     "duration": 0.00138,
     "end_time": "2023-05-04T17:08:03.028535",
     "exception": false,
     "start_time": "2023-05-04T17:08:03.027155",
     "status": "completed"
    },
    "tags": []
   },
   "outputs": [],
   "source": []
  }
 ],
 "metadata": {
  "kernelspec": {
   "display_name": "Python 3",
   "language": "python",
   "name": "python3"
  },
  "language_info": {
   "codemirror_mode": {
    "name": "ipython",
    "version": 3
   },
   "file_extension": ".py",
   "mimetype": "text/x-python",
   "name": "python",
   "nbconvert_exporter": "python",
   "pygments_lexer": "ipython3",
   "version": "3.9.16"
  },
  "papermill": {
   "default_parameters": {},
   "duration": 1.751061,
   "end_time": "2023-05-04T17:08:03.351413",
   "environment_variables": {},
   "exception": null,
   "input_path": "PRJNA253931.ipynb",
   "output_path": "PRJNA253931.ipynb",
   "parameters": {},
   "start_time": "2023-05-04T17:08:01.600352",
   "version": "2.3.4"
  }
 },
 "nbformat": 4,
 "nbformat_minor": 5
}